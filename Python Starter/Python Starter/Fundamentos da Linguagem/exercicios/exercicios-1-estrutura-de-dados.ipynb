{
 "cells": [
  {
   "cell_type": "markdown",
   "metadata": {},
   "source": [
    "<img src=\"logo.png\" width=\"200\"/>\n",
    "_____________________________________________\n",
    "\n",
    "## Exercícios #1 - Estruturas de dados\n"
   ]
  },
  {
   "cell_type": "markdown",
   "metadata": {},
   "source": [
    "### Exercício 1\n",
    "Utilizando o built-in method input(), crie um programa que receba a altura e o peso de uma pessoa e imprima na tela o IMC da mesma."
   ]
  },
  {
   "cell_type": "code",
   "execution_count": 1,
   "metadata": {},
   "outputs": [
    {
     "name": "stdout",
     "output_type": "stream",
     "text": [
      "Seu IMC é: 0.0030483158055174516\n"
     ]
    }
   ],
   "source": [
    "peso = float(input(\"Insira o seu peso em quilogramas: \"))\n",
    "altura = float(input(\"Insira a sua altura em metros: \"))\n",
    "\n",
    "imc = peso / (altura * altura)\n",
    "\n",
    "print(\"Seu IMC é:\", imc)\n"
   ]
  },
  {
   "cell_type": "markdown",
   "metadata": {},
   "source": [
    "### Exercício 2 \n",
    "Escreva um programa que pergunte o nome completo do usuário e cumprimente o mesmo pelo primeiro nome."
   ]
  },
  {
   "cell_type": "code",
   "execution_count": 2,
   "metadata": {},
   "outputs": [
    {
     "name": "stdout",
     "output_type": "stream",
     "text": [
      "Olá, prazer em conhecer você Pamela\n"
     ]
    }
   ],
   "source": [
    "nome = input(\"Insira o seu nome: \")\n",
    "\n",
    "print(\"Olá, prazer em conhecer você\", nome.split()[0])"
   ]
  },
  {
   "cell_type": "markdown",
   "metadata": {},
   "source": [
    "### Exercício 3\n",
    "Desenho um código que extraia o domínio de um e-mail informado."
   ]
  },
  {
   "cell_type": "code",
   "execution_count": 4,
   "metadata": {},
   "outputs": [
    {
     "name": "stdout",
     "output_type": "stream",
     "text": [
      "O domínio do e-mail é: hotmail.com\n"
     ]
    }
   ],
   "source": [
    "email = input(\"Insira o seu e-mail: \")\n",
    "dominio = email.split(\"@\")[1]\n",
    "print(\"O domínio do e-mail é:\", dominio)\n"
   ]
  },
  {
   "cell_type": "markdown",
   "metadata": {},
   "source": [
    "### Exercício 4 \n",
    "Faça um programa para uma loja de tintas. A pessoa informa a área em m2 que deseja pintar, e o script calculará a quantidade de latas de tinta que a pessoa deve comprar e o valor. Considere que cada litro de tinta pinta 3m2, que cada lata contém 18L e que custa R$ 80."
   ]
  },
  {
   "cell_type": "code",
   "execution_count": 6,
   "metadata": {},
   "outputs": [
    {
     "name": "stdout",
     "output_type": "stream",
     "text": [
      "Quantidade de latas de tinta necessárias: 2\n",
      "Custo total: R$ 160\n"
     ]
    }
   ],
   "source": [
    "area = float(input(\"Insira a área em metros quadrados que deseja pintar: \"))\n",
    "\n",
    "litros_tinta = area / 3\n",
    "latas_tinta = int(litros_tinta / 18) + 1\n",
    "custo_total = latas_tinta * 80\n",
    "\n",
    "print(\"Quantidade de latas de tinta necessárias:\", latas_tinta)\n",
    "print(\"Custo total: R$\", custo_total)\n"
   ]
  },
  {
   "cell_type": "markdown",
   "metadata": {},
   "source": [
    "### Exercício 5\n",
    "Faça um Programa que pergunte quanto você ganha por hora e o número de horas trabalhadas no mês. Calcule e mostre o total do seu salário no referido mês, sabendo-se que são descontados 11% para o Imposto de Renda, 8% para o INSS e 5% para o sindicato, faça um programa que nos dê:\n",
    "1. Salário bruto.\n",
    "2. Quanto pagou ao INSS.\n",
    "3. Quanto pagou ao sindicato.\n",
    "4. O salário líquido."
   ]
  },
  {
   "cell_type": "code",
   "execution_count": 9,
   "metadata": {},
   "outputs": [
    {
     "name": "stdout",
     "output_type": "stream",
     "text": [
      "Seu salário bruto é R$:  19800.0\n",
      "Você pagou R$ 1584.0 de INSS\n",
      "Você pagou R$ 990.0 de sindicato\n",
      "Você pagou R$ 2178.0 de IR\n",
      "Seu salário líquido é R$:  15048.0\n"
     ]
    }
   ],
   "source": [
    "salario = float(input(\"Insira quanto você ganha por hora: \"))\n",
    "horas = float(input(\"Insira quantas horas você trabalha por mês: \"))\n",
    "\n",
    "salario_bruto= salario * horas \n",
    "inss = salario_bruto * 8 / 100\n",
    "sindicato = salario_bruto * 5 /100\n",
    "ir = salario_bruto * 11 /100\n",
    "salario_liquido = salario_bruto - (inss+sindicato+ir)\n",
    "\n",
    "print(\"Seu salário bruto é R$: \",salario_bruto)\n",
    "print(\"Você pagou R$\", inss, \"de INSS\")\n",
    "print(\"Você pagou R$\", sindicato, \"de sindicato\")\n",
    "print(\"Você pagou R$\", ir, \"de IR\")\n",
    "print(\"Seu salário líquido é R$: \", salario_liquido)"
   ]
  }
 ],
 "metadata": {
  "kernelspec": {
   "display_name": "\"Python/Mu (mu_venv-38-20240115-212756)\"",
   "language": "python",
   "name": "mu_venv-38-20240115-212756"
  },
  "language_info": {
   "codemirror_mode": {
    "name": "ipython",
    "version": 3
   },
   "file_extension": ".py",
   "mimetype": "text/x-python",
   "name": "python",
   "nbconvert_exporter": "python",
   "pygments_lexer": "ipython3",
   "version": "3.8.12"
  }
 },
 "nbformat": 4,
 "nbformat_minor": 4
}
